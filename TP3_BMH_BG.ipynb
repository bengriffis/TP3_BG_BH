{
 "cells": [
  {
   "cell_type": "markdown",
   "id": "48acc298",
   "metadata": {},
   "source": [
    "## Import all the necessary libraries"
   ]
  },
  {
   "cell_type": "code",
   "execution_count": 1,
   "id": "298b2aa3",
   "metadata": {},
   "outputs": [],
   "source": [
    "import numpy as np\n",
    "import matplotlib.pyplot as plt\n",
    "import pandas as pd\n",
    "import seaborn as sns"
   ]
  },
  {
   "cell_type": "markdown",
   "id": "0458abee",
   "metadata": {},
   "source": [
    "## Read the dataset we are working with"
   ]
  },
  {
   "cell_type": "code",
   "execution_count": 2,
   "id": "9f20de6f",
   "metadata": {},
   "outputs": [
    {
     "data": {
      "text/html": [
       "<div>\n",
       "<style scoped>\n",
       "    .dataframe tbody tr th:only-of-type {\n",
       "        vertical-align: middle;\n",
       "    }\n",
       "\n",
       "    .dataframe tbody tr th {\n",
       "        vertical-align: top;\n",
       "    }\n",
       "\n",
       "    .dataframe thead th {\n",
       "        text-align: right;\n",
       "    }\n",
       "</style>\n",
       "<table border=\"1\" class=\"dataframe\">\n",
       "  <thead>\n",
       "    <tr style=\"text-align: right;\">\n",
       "      <th></th>\n",
       "      <th>Date</th>\n",
       "      <th>Workout Name</th>\n",
       "      <th>Exercise Name</th>\n",
       "      <th>Set Order</th>\n",
       "      <th>Weight</th>\n",
       "      <th>Reps</th>\n",
       "      <th>Distance</th>\n",
       "      <th>Seconds</th>\n",
       "      <th>Notes</th>\n",
       "      <th>Workout Notes</th>\n",
       "    </tr>\n",
       "  </thead>\n",
       "  <tbody>\n",
       "    <tr>\n",
       "      <th>0</th>\n",
       "      <td>2015-10-23 17:06:37</td>\n",
       "      <td>Chest</td>\n",
       "      <td>Incline Bench Press (Barbell)</td>\n",
       "      <td>1</td>\n",
       "      <td>135.0</td>\n",
       "      <td>8</td>\n",
       "      <td>0.0</td>\n",
       "      <td>0</td>\n",
       "      <td>NaN</td>\n",
       "      <td>NaN</td>\n",
       "    </tr>\n",
       "    <tr>\n",
       "      <th>1</th>\n",
       "      <td>2015-10-23 17:06:37</td>\n",
       "      <td>Chest</td>\n",
       "      <td>Incline Bench Press (Barbell)</td>\n",
       "      <td>2</td>\n",
       "      <td>135.0</td>\n",
       "      <td>8</td>\n",
       "      <td>0.0</td>\n",
       "      <td>0</td>\n",
       "      <td>NaN</td>\n",
       "      <td>NaN</td>\n",
       "    </tr>\n",
       "    <tr>\n",
       "      <th>2</th>\n",
       "      <td>2015-10-23 17:06:37</td>\n",
       "      <td>Chest</td>\n",
       "      <td>Incline Bench Press (Barbell)</td>\n",
       "      <td>3</td>\n",
       "      <td>135.0</td>\n",
       "      <td>5</td>\n",
       "      <td>0.0</td>\n",
       "      <td>0</td>\n",
       "      <td>NaN</td>\n",
       "      <td>NaN</td>\n",
       "    </tr>\n",
       "    <tr>\n",
       "      <th>3</th>\n",
       "      <td>2015-10-23 17:06:37</td>\n",
       "      <td>Chest</td>\n",
       "      <td>Incline Bench Press (Barbell)</td>\n",
       "      <td>4</td>\n",
       "      <td>185.0</td>\n",
       "      <td>7</td>\n",
       "      <td>0.0</td>\n",
       "      <td>0</td>\n",
       "      <td>NaN</td>\n",
       "      <td>NaN</td>\n",
       "    </tr>\n",
       "    <tr>\n",
       "      <th>4</th>\n",
       "      <td>2015-10-23 17:06:37</td>\n",
       "      <td>Chest</td>\n",
       "      <td>Incline Bench Press (Barbell)</td>\n",
       "      <td>5</td>\n",
       "      <td>230.0</td>\n",
       "      <td>8</td>\n",
       "      <td>0.0</td>\n",
       "      <td>0</td>\n",
       "      <td>NaN</td>\n",
       "      <td>NaN</td>\n",
       "    </tr>\n",
       "  </tbody>\n",
       "</table>\n",
       "</div>"
      ],
      "text/plain": [
       "                  Date Workout Name                  Exercise Name  Set Order  \\\n",
       "0  2015-10-23 17:06:37        Chest  Incline Bench Press (Barbell)          1   \n",
       "1  2015-10-23 17:06:37        Chest  Incline Bench Press (Barbell)          2   \n",
       "2  2015-10-23 17:06:37        Chest  Incline Bench Press (Barbell)          3   \n",
       "3  2015-10-23 17:06:37        Chest  Incline Bench Press (Barbell)          4   \n",
       "4  2015-10-23 17:06:37        Chest  Incline Bench Press (Barbell)          5   \n",
       "\n",
       "   Weight  Reps  Distance  Seconds Notes Workout Notes  \n",
       "0   135.0     8       0.0        0   NaN           NaN  \n",
       "1   135.0     8       0.0        0   NaN           NaN  \n",
       "2   135.0     5       0.0        0   NaN           NaN  \n",
       "3   185.0     7       0.0        0   NaN           NaN  \n",
       "4   230.0     8       0.0        0   NaN           NaN  "
      ]
     },
     "execution_count": 2,
     "metadata": {},
     "output_type": "execute_result"
    }
   ],
   "source": [
    "dataset=pd.read_csv('weightlifting_721_workouts.csv')\n",
    "dataset.head()"
   ]
  },
  {
   "cell_type": "code",
   "execution_count": 6,
   "id": "c0098a01",
   "metadata": {},
   "outputs": [
    {
     "name": "stdout",
     "output_type": "stream",
     "text": [
      "<class 'pandas.core.frame.DataFrame'>\n",
      "RangeIndex: 9932 entries, 0 to 9931\n",
      "Data columns (total 10 columns):\n",
      " #   Column         Non-Null Count  Dtype  \n",
      "---  ------         --------------  -----  \n",
      " 0   Date           9932 non-null   object \n",
      " 1   Workout Name   9932 non-null   object \n",
      " 2   Exercise Name  9932 non-null   object \n",
      " 3   Set Order      9932 non-null   int64  \n",
      " 4   Weight         9932 non-null   float64\n",
      " 5   Reps           9932 non-null   int64  \n",
      " 6   Distance       9932 non-null   float64\n",
      " 7   Seconds        9932 non-null   int64  \n",
      " 8   Notes          7 non-null      object \n",
      " 9   Workout Notes  3 non-null      object \n",
      "dtypes: float64(2), int64(3), object(5)\n",
      "memory usage: 776.1+ KB\n"
     ]
    }
   ],
   "source": [
    "dataset.info()"
   ]
  },
  {
   "cell_type": "code",
   "execution_count": 7,
   "id": "0448e16f",
   "metadata": {},
   "outputs": [
    {
     "data": {
      "text/plain": [
       "Date                0\n",
       "Workout Name        0\n",
       "Exercise Name       0\n",
       "Set Order           0\n",
       "Weight              0\n",
       "Reps                0\n",
       "Distance            0\n",
       "Seconds             0\n",
       "Notes            9925\n",
       "Workout Notes    9929\n",
       "dtype: int64"
      ]
     },
     "execution_count": 7,
     "metadata": {},
     "output_type": "execute_result"
    }
   ],
   "source": [
    "dataset.isnull().sum()"
   ]
  },
  {
   "cell_type": "markdown",
   "id": "3b50fd82",
   "metadata": {},
   "source": [
    "### Removing unnecessary columns: Columns with not values/inputs"
   ]
  },
  {
   "cell_type": "code",
   "execution_count": 21,
   "id": "a352ca81",
   "metadata": {},
   "outputs": [],
   "source": [
    "dataset.drop(['Notes'], axis = 1, inplace = True)"
   ]
  },
  {
   "cell_type": "code",
   "execution_count": 22,
   "id": "ba16b169",
   "metadata": {},
   "outputs": [],
   "source": [
    "dataset.drop(['Workout Notes'], axis = 1, inplace = True)"
   ]
  },
  {
   "cell_type": "code",
   "execution_count": 28,
   "id": "eb0ec08e",
   "metadata": {},
   "outputs": [
    {
     "name": "stdout",
     "output_type": "stream",
     "text": [
      "<class 'pandas.core.frame.DataFrame'>\n",
      "RangeIndex: 9932 entries, 0 to 9931\n",
      "Data columns (total 8 columns):\n",
      " #   Column         Non-Null Count  Dtype  \n",
      "---  ------         --------------  -----  \n",
      " 0   Date           9932 non-null   object \n",
      " 1   Workout Name   9932 non-null   object \n",
      " 2   Exercise Name  9932 non-null   object \n",
      " 3   Set Order      9932 non-null   int64  \n",
      " 4   Weight         9932 non-null   float64\n",
      " 5   Reps           9932 non-null   int64  \n",
      " 6   Distance       9932 non-null   float64\n",
      " 7   Seconds        9932 non-null   int64  \n",
      "dtypes: float64(2), int64(3), object(3)\n",
      "memory usage: 620.9+ KB\n"
     ]
    }
   ],
   "source": [
    "dataset.info()"
   ]
  },
  {
   "cell_type": "markdown",
   "id": "7786a60c",
   "metadata": {},
   "source": [
    "### Correlation"
   ]
  },
  {
   "cell_type": "code",
   "execution_count": 39,
   "id": "3fcd36a2",
   "metadata": {},
   "outputs": [
    {
     "data": {
      "text/plain": [
       "0.30818792876594236"
      ]
     },
     "execution_count": 39,
     "metadata": {},
     "output_type": "execute_result"
    }
   ],
   "source": [
    "dataset['Set Order'].corr(dataset['Weight'])"
   ]
  },
  {
   "cell_type": "code",
   "execution_count": 41,
   "id": "14865c3c",
   "metadata": {},
   "outputs": [
    {
     "data": {
      "text/plain": [
       "-0.37698451262108634"
      ]
     },
     "execution_count": 41,
     "metadata": {},
     "output_type": "execute_result"
    }
   ],
   "source": [
    "dataset['Reps'].corr(dataset['Weight'])"
   ]
  },
  {
   "cell_type": "code",
   "execution_count": 42,
   "id": "44ee7bff",
   "metadata": {},
   "outputs": [
    {
     "data": {
      "text/plain": [
       "-0.02458573585897607"
      ]
     },
     "execution_count": 42,
     "metadata": {},
     "output_type": "execute_result"
    }
   ],
   "source": [
    "dataset['Distance'].corr(dataset['Weight'])"
   ]
  },
  {
   "cell_type": "code",
   "execution_count": 43,
   "id": "cec3b91a",
   "metadata": {},
   "outputs": [
    {
     "data": {
      "text/plain": [
       "-0.05193560055052428"
      ]
     },
     "execution_count": 43,
     "metadata": {},
     "output_type": "execute_result"
    }
   ],
   "source": [
    "dataset['Seconds'].corr(dataset['Weight'])"
   ]
  },
  {
   "cell_type": "markdown",
   "id": "425633a8",
   "metadata": {},
   "source": [
    "###### The negative sign before the correlation suggests as the reps, distance, and seconds increases, the weight decrease"
   ]
  },
  {
   "cell_type": "markdown",
   "id": "d7d487a0",
   "metadata": {},
   "source": [
    "### Split the dataset into independent and dependent variables"
   ]
  },
  {
   "cell_type": "code",
   "execution_count": 29,
   "id": "7dc45e8e",
   "metadata": {},
   "outputs": [
    {
     "data": {
      "text/plain": [
       "Index(['Date', 'Workout Name', 'Exercise Name', 'Set Order', 'Weight', 'Reps',\n",
       "       'Distance', 'Seconds'],\n",
       "      dtype='object')"
      ]
     },
     "execution_count": 29,
     "metadata": {},
     "output_type": "execute_result"
    }
   ],
   "source": [
    "dataset.columns"
   ]
  },
  {
   "cell_type": "code",
   "execution_count": 33,
   "id": "9b26670d",
   "metadata": {},
   "outputs": [],
   "source": [
    "X=dataset[['Set Order','Reps','Distance', 'Seconds']]\n",
    "y=dataset[['Weight']]"
   ]
  },
  {
   "cell_type": "markdown",
   "id": "6af0adec",
   "metadata": {},
   "source": [
    "### Split the dataset into training and test set"
   ]
  },
  {
   "cell_type": "code",
   "execution_count": 34,
   "id": "57a1f4bc",
   "metadata": {},
   "outputs": [],
   "source": [
    "from sklearn.model_selection import train_test_split\n",
    "X_train, X_test, y_train, y_test=train_test_split(X,y,\n",
    "                                                 test_size=.2,\n",
    "                                                 random_state=17)"
   ]
  },
  {
   "cell_type": "markdown",
   "id": "7ab8c6d1",
   "metadata": {},
   "source": [
    "### Training the Multiple Linear Regression model on the Training set"
   ]
  },
  {
   "cell_type": "code",
   "execution_count": 35,
   "id": "d114997c",
   "metadata": {},
   "outputs": [
    {
     "data": {
      "text/html": [
       "<style>#sk-container-id-1 {color: black;background-color: white;}#sk-container-id-1 pre{padding: 0;}#sk-container-id-1 div.sk-toggleable {background-color: white;}#sk-container-id-1 label.sk-toggleable__label {cursor: pointer;display: block;width: 100%;margin-bottom: 0;padding: 0.3em;box-sizing: border-box;text-align: center;}#sk-container-id-1 label.sk-toggleable__label-arrow:before {content: \"▸\";float: left;margin-right: 0.25em;color: #696969;}#sk-container-id-1 label.sk-toggleable__label-arrow:hover:before {color: black;}#sk-container-id-1 div.sk-estimator:hover label.sk-toggleable__label-arrow:before {color: black;}#sk-container-id-1 div.sk-toggleable__content {max-height: 0;max-width: 0;overflow: hidden;text-align: left;background-color: #f0f8ff;}#sk-container-id-1 div.sk-toggleable__content pre {margin: 0.2em;color: black;border-radius: 0.25em;background-color: #f0f8ff;}#sk-container-id-1 input.sk-toggleable__control:checked~div.sk-toggleable__content {max-height: 200px;max-width: 100%;overflow: auto;}#sk-container-id-1 input.sk-toggleable__control:checked~label.sk-toggleable__label-arrow:before {content: \"▾\";}#sk-container-id-1 div.sk-estimator input.sk-toggleable__control:checked~label.sk-toggleable__label {background-color: #d4ebff;}#sk-container-id-1 div.sk-label input.sk-toggleable__control:checked~label.sk-toggleable__label {background-color: #d4ebff;}#sk-container-id-1 input.sk-hidden--visually {border: 0;clip: rect(1px 1px 1px 1px);clip: rect(1px, 1px, 1px, 1px);height: 1px;margin: -1px;overflow: hidden;padding: 0;position: absolute;width: 1px;}#sk-container-id-1 div.sk-estimator {font-family: monospace;background-color: #f0f8ff;border: 1px dotted black;border-radius: 0.25em;box-sizing: border-box;margin-bottom: 0.5em;}#sk-container-id-1 div.sk-estimator:hover {background-color: #d4ebff;}#sk-container-id-1 div.sk-parallel-item::after {content: \"\";width: 100%;border-bottom: 1px solid gray;flex-grow: 1;}#sk-container-id-1 div.sk-label:hover label.sk-toggleable__label {background-color: #d4ebff;}#sk-container-id-1 div.sk-serial::before {content: \"\";position: absolute;border-left: 1px solid gray;box-sizing: border-box;top: 0;bottom: 0;left: 50%;z-index: 0;}#sk-container-id-1 div.sk-serial {display: flex;flex-direction: column;align-items: center;background-color: white;padding-right: 0.2em;padding-left: 0.2em;position: relative;}#sk-container-id-1 div.sk-item {position: relative;z-index: 1;}#sk-container-id-1 div.sk-parallel {display: flex;align-items: stretch;justify-content: center;background-color: white;position: relative;}#sk-container-id-1 div.sk-item::before, #sk-container-id-1 div.sk-parallel-item::before {content: \"\";position: absolute;border-left: 1px solid gray;box-sizing: border-box;top: 0;bottom: 0;left: 50%;z-index: -1;}#sk-container-id-1 div.sk-parallel-item {display: flex;flex-direction: column;z-index: 1;position: relative;background-color: white;}#sk-container-id-1 div.sk-parallel-item:first-child::after {align-self: flex-end;width: 50%;}#sk-container-id-1 div.sk-parallel-item:last-child::after {align-self: flex-start;width: 50%;}#sk-container-id-1 div.sk-parallel-item:only-child::after {width: 0;}#sk-container-id-1 div.sk-dashed-wrapped {border: 1px dashed gray;margin: 0 0.4em 0.5em 0.4em;box-sizing: border-box;padding-bottom: 0.4em;background-color: white;}#sk-container-id-1 div.sk-label label {font-family: monospace;font-weight: bold;display: inline-block;line-height: 1.2em;}#sk-container-id-1 div.sk-label-container {text-align: center;}#sk-container-id-1 div.sk-container {/* jupyter's `normalize.less` sets `[hidden] { display: none; }` but bootstrap.min.css set `[hidden] { display: none !important; }` so we also need the `!important` here to be able to override the default hidden behavior on the sphinx rendered scikit-learn.org. See: https://github.com/scikit-learn/scikit-learn/issues/21755 */display: inline-block !important;position: relative;}#sk-container-id-1 div.sk-text-repr-fallback {display: none;}</style><div id=\"sk-container-id-1\" class=\"sk-top-container\"><div class=\"sk-text-repr-fallback\"><pre>LinearRegression()</pre><b>In a Jupyter environment, please rerun this cell to show the HTML representation or trust the notebook. <br />On GitHub, the HTML representation is unable to render, please try loading this page with nbviewer.org.</b></div><div class=\"sk-container\" hidden><div class=\"sk-item\"><div class=\"sk-estimator sk-toggleable\"><input class=\"sk-toggleable__control sk-hidden--visually\" id=\"sk-estimator-id-1\" type=\"checkbox\" checked><label for=\"sk-estimator-id-1\" class=\"sk-toggleable__label sk-toggleable__label-arrow\">LinearRegression</label><div class=\"sk-toggleable__content\"><pre>LinearRegression()</pre></div></div></div></div></div>"
      ],
      "text/plain": [
       "LinearRegression()"
      ]
     },
     "execution_count": 35,
     "metadata": {},
     "output_type": "execute_result"
    }
   ],
   "source": [
    "from sklearn.linear_model import LinearRegression\n",
    "regressor=LinearRegression()\n",
    "regressor.fit(X_train.values, y_train)"
   ]
  },
  {
   "cell_type": "markdown",
   "id": "93ad9698",
   "metadata": {},
   "source": [
    "### Intercept and coefficients"
   ]
  },
  {
   "cell_type": "code",
   "execution_count": 36,
   "id": "f154115e",
   "metadata": {},
   "outputs": [
    {
     "name": "stdout",
     "output_type": "stream",
     "text": [
      "Coefficients [[ 13.10734545 -12.75846022  -0.52846893  -0.28707097]]\n",
      "Intercept [242.63545728]\n"
     ]
    }
   ],
   "source": [
    "print(\"Coefficients\", regressor.coef_)\n",
    "print(\"Intercept\", regressor.intercept_)"
   ]
  },
  {
   "cell_type": "markdown",
   "id": "d50f9eb9",
   "metadata": {},
   "source": [
    "### Predicting test set results"
   ]
  },
  {
   "cell_type": "code",
   "execution_count": 37,
   "id": "b20a4730",
   "metadata": {},
   "outputs": [],
   "source": [
    "y_pred=regressor.predict(X_test.values)"
   ]
  },
  {
   "cell_type": "markdown",
   "id": "a23d1504",
   "metadata": {},
   "source": [
    "### Calculating RMSE and R-Square"
   ]
  },
  {
   "cell_type": "code",
   "execution_count": 38,
   "id": "02b9e229",
   "metadata": {},
   "outputs": [
    {
     "name": "stdout",
     "output_type": "stream",
     "text": [
      "R-Square: 0.22\n",
      "MSE: 9836.40\n",
      "RMSE: 99.18\n"
     ]
    }
   ],
   "source": [
    "from sklearn.metrics import mean_squared_error, r2_score\n",
    "import math\n",
    "print(f\"R-Square: {r2_score(y_test, y_pred):.2f}\")\n",
    "print(f\"MSE: {mean_squared_error(y_test, y_pred):.2f}\")\n",
    "\n",
    "print(f\"RMSE: {math.sqrt(mean_squared_error(y_test, y_pred)):.2f}\")"
   ]
  },
  {
   "cell_type": "markdown",
   "id": "e9da48c0",
   "metadata": {},
   "source": [
    "# Braden Heuglin and Ben Griffis\n",
    "## TP3\n",
    "### Version 1\n",
    "#### DS 160\n",
    "##### Spring 2023"
   ]
  }
 ],
 "metadata": {
  "kernelspec": {
   "display_name": "Python 3 (ipykernel)",
   "language": "python",
   "name": "python3"
  },
  "language_info": {
   "codemirror_mode": {
    "name": "ipython",
    "version": 3
   },
   "file_extension": ".py",
   "mimetype": "text/x-python",
   "name": "python",
   "nbconvert_exporter": "python",
   "pygments_lexer": "ipython3",
   "version": "3.9.12"
  }
 },
 "nbformat": 4,
 "nbformat_minor": 5
}
